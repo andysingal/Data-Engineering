{
 "cells": [
  {
   "cell_type": "markdown",
   "metadata": {},
   "source": [
    "# Pulling data from public APIs (without registration) - GET request"
   ]
  },
  {
   "cell_type": "code",
   "execution_count": 1,
   "metadata": {},
   "outputs": [],
   "source": [
    "# loading the packages\n",
    "# requests provides us with the capabilities of sending an HTTP request to a server\n",
    "import requests"
   ]
  },
  {
   "cell_type": "markdown",
   "metadata": {},
   "source": [
    "## Extracting data on currency exchange rates"
   ]
  },
  {
   "cell_type": "code",
   "execution_count": 2,
   "metadata": {},
   "outputs": [],
   "source": [
    "# We will use an API containing currency exchange rates as published by the European Central Bank\n",
    "# Documentation at https://exchangeratesapi.io"
   ]
  },
  {
   "cell_type": "markdown",
   "metadata": {},
   "source": [
    "### Sending a GET request"
   ]
  },
  {
   "cell_type": "code",
   "execution_count": 3,
   "metadata": {},
   "outputs": [],
   "source": [
    "# Define the base URL\n",
    "# Base URL: the part of the URL common to all requests, not containing the parameters\n",
    "base_url = \"https://api.exchangeratesapi.io/latest\""
   ]
  },
  {
   "cell_type": "code",
   "execution_count": 4,
   "metadata": {},
   "outputs": [],
   "source": [
    "# We can make a GET request to this API endpoint with requests.get\n",
    "response = requests.get(base_url)\n",
    "\n",
    "# This method returns the response from the server\n",
    "# We store this response in a variable for future processing"
   ]
  },
  {
   "cell_type": "markdown",
   "metadata": {},
   "source": [
    "### Investigating the response"
   ]
  },
  {
   "cell_type": "code",
   "execution_count": 5,
   "metadata": {},
   "outputs": [
    {
     "data": {
      "text/plain": [
       "True"
      ]
     },
     "execution_count": 5,
     "metadata": {},
     "output_type": "execute_result"
    }
   ],
   "source": [
    "# Checking if the request went through ok\n",
    "response.ok"
   ]
  },
  {
   "cell_type": "code",
   "execution_count": 6,
   "metadata": {},
   "outputs": [
    {
     "data": {
      "text/plain": [
       "200"
      ]
     },
     "execution_count": 6,
     "metadata": {},
     "output_type": "execute_result"
    }
   ],
   "source": [
    "# Checking the status code of the response\n",
    "response.status_code"
   ]
  },
  {
   "cell_type": "code",
   "execution_count": 7,
   "metadata": {},
   "outputs": [
    {
     "data": {
      "text/plain": [
       "'{\"rates\":{\"CAD\":1.5613,\"HKD\":8.9041,\"ISK\":145.0,\"PHP\":58.013,\"DKK\":7.4695,\"HUF\":336.25,\"CZK\":25.504,\"AUD\":1.733,\"RON\":4.8175,\"SEK\":10.7203,\"IDR\":16488.05,\"INR\":84.96,\"BRL\":5.4418,\"RUB\":85.1553,\"HRK\":7.55,\"JPY\":117.12,\"THB\":36.081,\"CHF\":1.0594,\"SGD\":1.5841,\"PLN\":4.3132,\"BGN\":1.9558,\"TRY\":7.0002,\"CNY\":7.96,\"NOK\":10.89,\"NZD\":1.8021,\"ZAR\":18.2898,\"USD\":1.1456,\"MXN\":24.3268,\"ILS\":4.0275,\"GBP\":0.87383,\"KRW\":1374.71,\"MYR\":4.8304},\"base\":\"EUR\",\"date\":\"2020-03-09\"}'"
      ]
     },
     "execution_count": 7,
     "metadata": {},
     "output_type": "execute_result"
    }
   ],
   "source": [
    "# Inspecting the content body of the response (as a regular 'string')\n",
    "response.text"
   ]
  },
  {
   "cell_type": "code",
   "execution_count": 8,
   "metadata": {},
   "outputs": [
    {
     "data": {
      "text/plain": [
       "b'{\"rates\":{\"CAD\":1.5613,\"HKD\":8.9041,\"ISK\":145.0,\"PHP\":58.013,\"DKK\":7.4695,\"HUF\":336.25,\"CZK\":25.504,\"AUD\":1.733,\"RON\":4.8175,\"SEK\":10.7203,\"IDR\":16488.05,\"INR\":84.96,\"BRL\":5.4418,\"RUB\":85.1553,\"HRK\":7.55,\"JPY\":117.12,\"THB\":36.081,\"CHF\":1.0594,\"SGD\":1.5841,\"PLN\":4.3132,\"BGN\":1.9558,\"TRY\":7.0002,\"CNY\":7.96,\"NOK\":10.89,\"NZD\":1.8021,\"ZAR\":18.2898,\"USD\":1.1456,\"MXN\":24.3268,\"ILS\":4.0275,\"GBP\":0.87383,\"KRW\":1374.71,\"MYR\":4.8304},\"base\":\"EUR\",\"date\":\"2020-03-09\"}'"
      ]
     },
     "execution_count": 8,
     "metadata": {},
     "output_type": "execute_result"
    }
   ],
   "source": [
    "# Inspecting the content of the response (in 'bytes' format)\n",
    "response.content"
   ]
  },
  {
   "cell_type": "code",
   "execution_count": 9,
   "metadata": {},
   "outputs": [],
   "source": [
    "# The data is presented in JSON format"
   ]
  },
  {
   "cell_type": "markdown",
   "metadata": {},
   "source": [
    "### Handling the JSON"
   ]
  },
  {
   "cell_type": "code",
   "execution_count": 10,
   "metadata": {},
   "outputs": [
    {
     "data": {
      "text/plain": [
       "{'rates': {'CAD': 1.5613,\n",
       "  'HKD': 8.9041,\n",
       "  'ISK': 145.0,\n",
       "  'PHP': 58.013,\n",
       "  'DKK': 7.4695,\n",
       "  'HUF': 336.25,\n",
       "  'CZK': 25.504,\n",
       "  'AUD': 1.733,\n",
       "  'RON': 4.8175,\n",
       "  'SEK': 10.7203,\n",
       "  'IDR': 16488.05,\n",
       "  'INR': 84.96,\n",
       "  'BRL': 5.4418,\n",
       "  'RUB': 85.1553,\n",
       "  'HRK': 7.55,\n",
       "  'JPY': 117.12,\n",
       "  'THB': 36.081,\n",
       "  'CHF': 1.0594,\n",
       "  'SGD': 1.5841,\n",
       "  'PLN': 4.3132,\n",
       "  'BGN': 1.9558,\n",
       "  'TRY': 7.0002,\n",
       "  'CNY': 7.96,\n",
       "  'NOK': 10.89,\n",
       "  'NZD': 1.8021,\n",
       "  'ZAR': 18.2898,\n",
       "  'USD': 1.1456,\n",
       "  'MXN': 24.3268,\n",
       "  'ILS': 4.0275,\n",
       "  'GBP': 0.87383,\n",
       "  'KRW': 1374.71,\n",
       "  'MYR': 4.8304},\n",
       " 'base': 'EUR',\n",
       " 'date': '2020-03-09'}"
      ]
     },
     "execution_count": 10,
     "metadata": {},
     "output_type": "execute_result"
    }
   ],
   "source": [
    "# Requests has in-build method to directly convert the response to JSON format\n",
    "response.json()"
   ]
  },
  {
   "cell_type": "code",
   "execution_count": 11,
   "metadata": {},
   "outputs": [
    {
     "data": {
      "text/plain": [
       "dict"
      ]
     },
     "execution_count": 11,
     "metadata": {},
     "output_type": "execute_result"
    }
   ],
   "source": [
    "# In Python, this JSON is stored as a dictionary\n",
    "type(response.json())"
   ]
  },
  {
   "cell_type": "code",
   "execution_count": 12,
   "metadata": {},
   "outputs": [],
   "source": [
    "# A useful library for JSON manipulation and pretty print\n",
    "import json\n",
    "\n",
    "# It has two main methods:\n",
    "# .loads(), which creates a Python dictionary from a JSON format string (just as response.json() does)\n",
    "# .dumps(), which creates a JSON format string out of a Python dictionary "
   ]
  },
  {
   "cell_type": "code",
   "execution_count": 13,
   "metadata": {},
   "outputs": [
    {
     "data": {
      "text/plain": [
       "'{\\n    \"rates\": {\\n        \"CAD\": 1.5613,\\n        \"HKD\": 8.9041,\\n        \"ISK\": 145.0,\\n        \"PHP\": 58.013,\\n        \"DKK\": 7.4695,\\n        \"HUF\": 336.25,\\n        \"CZK\": 25.504,\\n        \"AUD\": 1.733,\\n        \"RON\": 4.8175,\\n        \"SEK\": 10.7203,\\n        \"IDR\": 16488.05,\\n        \"INR\": 84.96,\\n        \"BRL\": 5.4418,\\n        \"RUB\": 85.1553,\\n        \"HRK\": 7.55,\\n        \"JPY\": 117.12,\\n        \"THB\": 36.081,\\n        \"CHF\": 1.0594,\\n        \"SGD\": 1.5841,\\n        \"PLN\": 4.3132,\\n        \"BGN\": 1.9558,\\n        \"TRY\": 7.0002,\\n        \"CNY\": 7.96,\\n        \"NOK\": 10.89,\\n        \"NZD\": 1.8021,\\n        \"ZAR\": 18.2898,\\n        \"USD\": 1.1456,\\n        \"MXN\": 24.3268,\\n        \"ILS\": 4.0275,\\n        \"GBP\": 0.87383,\\n        \"KRW\": 1374.71,\\n        \"MYR\": 4.8304\\n    },\\n    \"base\": \"EUR\",\\n    \"date\": \"2020-03-09\"\\n}'"
      ]
     },
     "execution_count": 13,
     "metadata": {},
     "output_type": "execute_result"
    }
   ],
   "source": [
    "# .dumps() has options to make the string 'prettier', more readable\n",
    "# We can choose the number of spaces to be used as indentation\n",
    "json.dumps(response.json(), indent=4)"
   ]
  },
  {
   "cell_type": "code",
   "execution_count": 14,
   "metadata": {},
   "outputs": [
    {
     "name": "stdout",
     "output_type": "stream",
     "text": [
      "{\n",
      "    \"rates\": {\n",
      "        \"CAD\": 1.5613,\n",
      "        \"HKD\": 8.9041,\n",
      "        \"ISK\": 145.0,\n",
      "        \"PHP\": 58.013,\n",
      "        \"DKK\": 7.4695,\n",
      "        \"HUF\": 336.25,\n",
      "        \"CZK\": 25.504,\n",
      "        \"AUD\": 1.733,\n",
      "        \"RON\": 4.8175,\n",
      "        \"SEK\": 10.7203,\n",
      "        \"IDR\": 16488.05,\n",
      "        \"INR\": 84.96,\n",
      "        \"BRL\": 5.4418,\n",
      "        \"RUB\": 85.1553,\n",
      "        \"HRK\": 7.55,\n",
      "        \"JPY\": 117.12,\n",
      "        \"THB\": 36.081,\n",
      "        \"CHF\": 1.0594,\n",
      "        \"SGD\": 1.5841,\n",
      "        \"PLN\": 4.3132,\n",
      "        \"BGN\": 1.9558,\n",
      "        \"TRY\": 7.0002,\n",
      "        \"CNY\": 7.96,\n",
      "        \"NOK\": 10.89,\n",
      "        \"NZD\": 1.8021,\n",
      "        \"ZAR\": 18.2898,\n",
      "        \"USD\": 1.1456,\n",
      "        \"MXN\": 24.3268,\n",
      "        \"ILS\": 4.0275,\n",
      "        \"GBP\": 0.87383,\n",
      "        \"KRW\": 1374.71,\n",
      "        \"MYR\": 4.8304\n",
      "    },\n",
      "    \"base\": \"EUR\",\n",
      "    \"date\": \"2020-03-09\"\n",
      "}\n"
     ]
    }
   ],
   "source": [
    "# In order to visualize these changes, we need to print the string\n",
    "print(json.dumps(response.json(), indent=4))"
   ]
  },
  {
   "cell_type": "code",
   "execution_count": 15,
   "metadata": {},
   "outputs": [
    {
     "data": {
      "text/plain": [
       "dict_keys(['rates', 'base', 'date'])"
      ]
     },
     "execution_count": 15,
     "metadata": {},
     "output_type": "execute_result"
    }
   ],
   "source": [
    "# It contains 3 keys; the value for the 'rates' key is another dictionary\n",
    "response.json().keys()"
   ]
  }
 ],
 "metadata": {
  "kernelspec": {
   "display_name": "Python 3",
   "language": "python",
   "name": "python3"
  },
  "language_info": {
   "codemirror_mode": {
    "name": "ipython",
    "version": 3
   },
   "file_extension": ".py",
   "mimetype": "text/x-python",
   "name": "python",
   "nbconvert_exporter": "python",
   "pygments_lexer": "ipython3",
   "version": "3.7.3"
  }
 },
 "nbformat": 4,
 "nbformat_minor": 2
}
