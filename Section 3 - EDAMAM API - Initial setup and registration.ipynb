{
 "cells": [
  {
   "cell_type": "markdown",
   "metadata": {},
   "source": [
    "# API requiring registration - POST request"
   ]
  },
  {
   "cell_type": "markdown",
   "metadata": {},
   "source": [
    "### Registering to the API"
   ]
  },
  {
   "cell_type": "code",
   "execution_count": 1,
   "metadata": {},
   "outputs": [],
   "source": [
    "# We will use a nutritional analysis API\n",
    "# It requires registration (we need an API key to validate ourselves)\n",
    "# Many APIs require this kind of registration"
   ]
  },
  {
   "cell_type": "code",
   "execution_count": 2,
   "metadata": {},
   "outputs": [],
   "source": [
    "# You can sign-up for the Developer (Free) edition here: \n",
    "#        https://developer.edamam.com/edamam-nutrition-api\n",
    "\n",
    "# API documentation: \n",
    "#        https://developer.edamam.com/edamam-docs-nutrition-api"
   ]
  },
  {
   "cell_type": "markdown",
   "metadata": {},
   "source": [
    "### Initial Setup"
   ]
  },
  {
   "cell_type": "code",
   "execution_count": 3,
   "metadata": {},
   "outputs": [],
   "source": [
    "# loading the packages\n",
    "import requests\n",
    "import json"
   ]
  },
  {
   "cell_type": "code",
   "execution_count": 4,
   "metadata": {},
   "outputs": [],
   "source": [
    "# Store the ID and Key in variables\n",
    "\n",
    "#APP_ID = \"your_API_ID_here\"\n",
    "#APP_KEY = \"your_API_key_here\"\n",
    "\n",
    "# Note: Those are not real ID and Key,\n",
    "# Replace the string with your own ones that you recieved upon registration"
   ]
  },
  {
   "cell_type": "code",
   "execution_count": 5,
   "metadata": {},
   "outputs": [],
   "source": [
    "# Setting up the request URL\n",
    "api_endpoint = \"https://api.edamam.com/api/nutrition-details\"\n",
    "\n",
    "url = api_endpoint + \"?app_id=\" + APP_ID + \"&app_key=\" + APP_KEY"
   ]
  }
 ],
 "metadata": {
  "kernelspec": {
   "display_name": "Python 3",
   "language": "python",
   "name": "python3"
  },
  "language_info": {
   "codemirror_mode": {
    "name": "ipython",
    "version": 3
   },
   "file_extension": ".py",
   "mimetype": "text/x-python",
   "name": "python",
   "nbconvert_exporter": "python",
   "pygments_lexer": "ipython3",
   "version": "3.7.3"
  }
 },
 "nbformat": 4,
 "nbformat_minor": 2
}
